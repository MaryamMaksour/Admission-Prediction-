{
  "nbformat": 4,
  "nbformat_minor": 0,
  "metadata": {
    "colab": {
      "provenance": []
    },
    "kernelspec": {
      "name": "python3",
      "display_name": "Python 3"
    },
    "language_info": {
      "name": "python"
    }
  },
  "cells": [
    {
      "cell_type": "markdown",
      "source": [
        "# 1- Install Dependencies & Run a SparkSession"
      ],
      "metadata": {
        "id": "1ZytxSymeGR4"
      }
    },
    {
      "cell_type": "code",
      "execution_count": 1,
      "metadata": {
        "colab": {
          "base_uri": "https://localhost:8080/"
        },
        "id": "_GQmfEdUdNS6",
        "outputId": "62624c68-7f78-4beb-f2c3-5810e631bf37"
      },
      "outputs": [
        {
          "output_type": "stream",
          "name": "stdout",
          "text": [
            "Requirement already satisfied: pyspark in /usr/local/lib/python3.10/dist-packages (3.5.3)\n",
            "Requirement already satisfied: py4j==0.10.9.7 in /usr/local/lib/python3.10/dist-packages (from pyspark) (0.10.9.7)\n"
          ]
        }
      ],
      "source": [
        "! pip install pyspark"
      ]
    },
    {
      "cell_type": "code",
      "source": [
        "# create a sparksession\n",
        "\n",
        "from pyspark.sql import SparkSession\n",
        "spark = SparkSession.builder.appName('data_processing').getOrCreate()"
      ],
      "metadata": {
        "id": "Go4ko_u2eSr8"
      },
      "execution_count": 2,
      "outputs": []
    },
    {
      "cell_type": "code",
      "source": [
        "spark"
      ],
      "metadata": {
        "colab": {
          "base_uri": "https://localhost:8080/",
          "height": 221
        },
        "id": "eCmwCviPe1mB",
        "outputId": "9abf1bc0-f141-4738-b371-6393a2144f5c"
      },
      "execution_count": 4,
      "outputs": [
        {
          "output_type": "execute_result",
          "data": {
            "text/plain": [
              "<pyspark.sql.session.SparkSession at 0x79427a49f820>"
            ],
            "text/html": [
              "\n",
              "            <div>\n",
              "                <p><b>SparkSession - in-memory</b></p>\n",
              "                \n",
              "        <div>\n",
              "            <p><b>SparkContext</b></p>\n",
              "\n",
              "            <p><a href=\"http://8809e40e889f:4040\">Spark UI</a></p>\n",
              "\n",
              "            <dl>\n",
              "              <dt>Version</dt>\n",
              "                <dd><code>v3.5.3</code></dd>\n",
              "              <dt>Master</dt>\n",
              "                <dd><code>local[*]</code></dd>\n",
              "              <dt>AppName</dt>\n",
              "                <dd><code>data_processing</code></dd>\n",
              "            </dl>\n",
              "        </div>\n",
              "        \n",
              "            </div>\n",
              "        "
            ]
          },
          "metadata": {},
          "execution_count": 4
        }
      ]
    },
    {
      "cell_type": "markdown",
      "source": [
        "# 2- Clone & Explore Dataset"
      ],
      "metadata": {
        "id": "1McNWJDSe__l"
      }
    },
    {
      "cell_type": "code",
      "source": [
        "# clone the Dataset\n",
        "! git clone https://github.com/education454/admission_dataset"
      ],
      "metadata": {
        "id": "Eluf9amce2kW"
      },
      "execution_count": null,
      "outputs": []
    },
    {
      "cell_type": "code",
      "source": [
        "# check the dataset\n",
        "! ls admission_dataset"
      ],
      "metadata": {
        "colab": {
          "base_uri": "https://localhost:8080/"
        },
        "id": "CyZR02JhfQ1j",
        "outputId": "3cfadc96-475b-4ec3-a72d-1a7f3d180088"
      },
      "execution_count": 10,
      "outputs": [
        {
          "output_type": "stream",
          "name": "stdout",
          "text": [
            "Admission_Predict_Ver1.1.csv\n"
          ]
        }
      ]
    },
    {
      "cell_type": "code",
      "source": [
        "# Create a spark dataframe                                                                # inferSchema ==> define the type of each column\n",
        "df = spark.read.csv('/content/admission_dataset/Admission_Predict_Ver1.1.csv', header=True, inferSchema=True)"
      ],
      "metadata": {
        "id": "6L2bZH8LgRyf"
      },
      "execution_count": 11,
      "outputs": []
    },
    {
      "cell_type": "code",
      "source": [
        "df.show()"
      ],
      "metadata": {
        "colab": {
          "base_uri": "https://localhost:8080/"
        },
        "id": "7l0savdshH9B",
        "outputId": "5dcc67e6-8b09-4d3c-ed05-5717fafa0899"
      },
      "execution_count": 13,
      "outputs": [
        {
          "output_type": "stream",
          "name": "stdout",
          "text": [
            "+---------+---------+-----------+-----------------+---+---+----+--------+---------------+\n",
            "|Serial No|GRE Score|TOEFL Score|University Rating|SOP|LOR|CGPA|Research|Chance of Admit|\n",
            "+---------+---------+-----------+-----------------+---+---+----+--------+---------------+\n",
            "|        1|      337|        118|                4|4.5|4.5|9.65|       1|           0.92|\n",
            "|        2|      324|        107|                4|4.0|4.5|8.87|       1|           0.76|\n",
            "|        3|      316|        104|                3|3.0|3.5| 8.0|       1|           0.72|\n",
            "|        4|      322|        110|                3|3.5|2.5|8.67|       1|            0.8|\n",
            "|        5|      314|        103|                2|2.0|3.0|8.21|       0|           0.65|\n",
            "|        6|      330|        115|                5|4.5|3.0|9.34|       1|            0.9|\n",
            "|        7|      321|        109|                3|3.0|4.0| 8.2|       1|           0.75|\n",
            "|        8|      308|        101|                2|3.0|4.0| 7.9|       0|           0.68|\n",
            "|        9|      302|        102|                1|2.0|1.5| 8.0|       0|            0.5|\n",
            "|       10|      323|        108|                3|3.5|3.0| 8.6|       0|           0.45|\n",
            "|       11|      325|        106|                3|3.5|4.0| 8.4|       1|           0.52|\n",
            "|       12|      327|        111|                4|4.0|4.5| 9.0|       1|           0.84|\n",
            "|       13|      328|        112|                4|4.0|4.5| 9.1|       1|           0.78|\n",
            "|       14|      307|        109|                3|4.0|3.0| 8.0|       1|           0.62|\n",
            "|       15|      311|        104|                3|3.5|2.0| 8.2|       1|           0.61|\n",
            "|       16|      314|        105|                3|3.5|2.5| 8.3|       0|           0.54|\n",
            "|       17|      317|        107|                3|4.0|3.0| 8.7|       0|           0.66|\n",
            "|       18|      319|        106|                3|4.0|3.0| 8.0|       1|           0.65|\n",
            "|       19|      318|        110|                3|4.0|3.0| 8.8|       0|           0.63|\n",
            "|       20|      303|        102|                3|3.5|3.0| 8.5|       0|           0.62|\n",
            "+---------+---------+-----------+-----------------+---+---+----+--------+---------------+\n",
            "only showing top 20 rows\n",
            "\n"
          ]
        }
      ]
    },
    {
      "cell_type": "code",
      "source": [
        "# num of rows & columns\n",
        "\n",
        "print(f\"Totel number of rows {df.count()}\\nTotel number of columns {len(df.columns)}\" )"
      ],
      "metadata": {
        "colab": {
          "base_uri": "https://localhost:8080/"
        },
        "id": "bwhEkwkqhMwn",
        "outputId": "0b9f1777-6c88-4f13-991e-b6ea01c1c15e"
      },
      "execution_count": 16,
      "outputs": [
        {
          "output_type": "stream",
          "name": "stdout",
          "text": [
            "Totel number of rows 500\n",
            "Totel number of columns 9\n"
          ]
        }
      ]
    },
    {
      "cell_type": "code",
      "source": [
        "# print schema\n",
        "df.printSchema()"
      ],
      "metadata": {
        "colab": {
          "base_uri": "https://localhost:8080/"
        },
        "id": "QORuMIUyiKeq",
        "outputId": "b686208c-e3d3-4070-ff92-90f164d127fa"
      },
      "execution_count": 17,
      "outputs": [
        {
          "output_type": "stream",
          "name": "stdout",
          "text": [
            "root\n",
            " |-- Serial No: integer (nullable = true)\n",
            " |-- GRE Score: integer (nullable = true)\n",
            " |-- TOEFL Score: integer (nullable = true)\n",
            " |-- University Rating: integer (nullable = true)\n",
            " |-- SOP: double (nullable = true)\n",
            " |-- LOR: double (nullable = true)\n",
            " |-- CGPA: double (nullable = true)\n",
            " |-- Research: integer (nullable = true)\n",
            " |-- Chance of Admit: double (nullable = true)\n",
            "\n"
          ]
        }
      ]
    },
    {
      "cell_type": "code",
      "source": [
        "# get the summary statistics\n",
        "\n",
        "df.describe().show()"
      ],
      "metadata": {
        "colab": {
          "base_uri": "https://localhost:8080/"
        },
        "id": "0eRTZSx2iWKL",
        "outputId": "48fe35d7-2716-4866-a0af-20e0836879ca"
      },
      "execution_count": 18,
      "outputs": [
        {
          "output_type": "stream",
          "name": "stdout",
          "text": [
            "+-------+-----------------+------------------+-----------------+-----------------+------------------+------------------+------------------+------------------+-------------------+\n",
            "|summary|        Serial No|         GRE Score|      TOEFL Score|University Rating|               SOP|               LOR|              CGPA|          Research|    Chance of Admit|\n",
            "+-------+-----------------+------------------+-----------------+-----------------+------------------+------------------+------------------+------------------+-------------------+\n",
            "|  count|              500|               500|              500|              500|               500|               500|               500|               500|                500|\n",
            "|   mean|            250.5|           316.472|          107.192|            3.114|             3.374|             3.484| 8.576440000000003|              0.56| 0.7217399999999996|\n",
            "| stddev|144.4818327679989|11.295148372354712|6.081867659564538|1.143511800759815|0.9910036207566072|0.9254495738978191|0.6048128003332054|0.4968840786090358|0.14114040395030228|\n",
            "|    min|                1|               290|               92|                1|               1.0|               1.0|               6.8|                 0|               0.34|\n",
            "|    max|              500|               340|              120|                5|               5.0|               5.0|              9.92|                 1|               0.97|\n",
            "+-------+-----------------+------------------+-----------------+-----------------+------------------+------------------+------------------+------------------+-------------------+\n",
            "\n"
          ]
        }
      ]
    },
    {
      "cell_type": "markdown",
      "source": [
        "# 3- Data Cleaning"
      ],
      "metadata": {
        "id": "WF1K6Ln1ir7-"
      }
    },
    {
      "cell_type": "code",
      "source": [
        "# drop the unnecesssary column\n",
        "df = df.drop('Serial No')"
      ],
      "metadata": {
        "id": "JJ7qrZsMii41"
      },
      "execution_count": 19,
      "outputs": []
    },
    {
      "cell_type": "code",
      "source": [
        "# check for null values\n",
        "for col in df.columns:\n",
        "  print(col, df[df[col].isNull()].count())"
      ],
      "metadata": {
        "colab": {
          "base_uri": "https://localhost:8080/"
        },
        "id": "K7fT-fbKjQRu",
        "outputId": "b62b3d74-3667-409c-f93d-9205849fff24"
      },
      "execution_count": 23,
      "outputs": [
        {
          "output_type": "stream",
          "name": "stdout",
          "text": [
            "GRE Score 0\n",
            "TOEFL Score 0\n",
            "University Rating 0\n",
            "SOP 0\n",
            "LOR 0\n",
            "CGPA 0\n",
            "Research 0\n",
            "Chance of Admit 0\n"
          ]
        }
      ]
    },
    {
      "cell_type": "markdown",
      "source": [
        "# 4- Correlation Analysis & Feature Selection\n",
        "\n",
        "our output is Chance of Admit"
      ],
      "metadata": {
        "id": "hkKQsvN5mQTk"
      }
    },
    {
      "cell_type": "code",
      "source": [
        "df.show()"
      ],
      "metadata": {
        "colab": {
          "base_uri": "https://localhost:8080/"
        },
        "id": "5nmxH7kimasH",
        "outputId": "a8f35086-b11c-4344-ec0c-f58c4bb9852e"
      },
      "execution_count": 24,
      "outputs": [
        {
          "output_type": "stream",
          "name": "stdout",
          "text": [
            "+---------+-----------+-----------------+---+---+----+--------+---------------+\n",
            "|GRE Score|TOEFL Score|University Rating|SOP|LOR|CGPA|Research|Chance of Admit|\n",
            "+---------+-----------+-----------------+---+---+----+--------+---------------+\n",
            "|      337|        118|                4|4.5|4.5|9.65|       1|           0.92|\n",
            "|      324|        107|                4|4.0|4.5|8.87|       1|           0.76|\n",
            "|      316|        104|                3|3.0|3.5| 8.0|       1|           0.72|\n",
            "|      322|        110|                3|3.5|2.5|8.67|       1|            0.8|\n",
            "|      314|        103|                2|2.0|3.0|8.21|       0|           0.65|\n",
            "|      330|        115|                5|4.5|3.0|9.34|       1|            0.9|\n",
            "|      321|        109|                3|3.0|4.0| 8.2|       1|           0.75|\n",
            "|      308|        101|                2|3.0|4.0| 7.9|       0|           0.68|\n",
            "|      302|        102|                1|2.0|1.5| 8.0|       0|            0.5|\n",
            "|      323|        108|                3|3.5|3.0| 8.6|       0|           0.45|\n",
            "|      325|        106|                3|3.5|4.0| 8.4|       1|           0.52|\n",
            "|      327|        111|                4|4.0|4.5| 9.0|       1|           0.84|\n",
            "|      328|        112|                4|4.0|4.5| 9.1|       1|           0.78|\n",
            "|      307|        109|                3|4.0|3.0| 8.0|       1|           0.62|\n",
            "|      311|        104|                3|3.5|2.0| 8.2|       1|           0.61|\n",
            "|      314|        105|                3|3.5|2.5| 8.3|       0|           0.54|\n",
            "|      317|        107|                3|4.0|3.0| 8.7|       0|           0.66|\n",
            "|      319|        106|                3|4.0|3.0| 8.0|       1|           0.65|\n",
            "|      318|        110|                3|4.0|3.0| 8.8|       0|           0.63|\n",
            "|      303|        102|                3|3.5|3.0| 8.5|       0|           0.62|\n",
            "+---------+-----------+-----------------+---+---+----+--------+---------------+\n",
            "only showing top 20 rows\n",
            "\n"
          ]
        }
      ]
    },
    {
      "cell_type": "code",
      "source": [
        "# correlation analysis\n",
        "for col in df.columns:\n",
        "  print(f\"The correlation to chance of admit for {col} is {df.stat.corr('Chance of Admit', col)}\")"
      ],
      "metadata": {
        "colab": {
          "base_uri": "https://localhost:8080/"
        },
        "id": "CgVb-gkxmcUW",
        "outputId": "2fa5d6ec-620a-4686-9ee5-6f052edfe5a0"
      },
      "execution_count": 25,
      "outputs": [
        {
          "output_type": "stream",
          "name": "stdout",
          "text": [
            "The correlation to chance of admit for GRE Score is 0.8103506354632598\n",
            "The correlation to chance of admit for TOEFL Score is 0.7922276143050823\n",
            "The correlation to chance of admit for University Rating is 0.6901323687886892\n",
            "The correlation to chance of admit for SOP is 0.6841365241316723\n",
            "The correlation to chance of admit for LOR is 0.6453645135280112\n",
            "The correlation to chance of admit for CGPA is 0.882412574904574\n",
            "The correlation to chance of admit for Research is 0.5458710294711379\n",
            "The correlation to chance of admit for Chance of Admit is 1.0\n"
          ]
        }
      ]
    },
    {
      "cell_type": "markdown",
      "source": [
        "we can see that the greatest correlation value is:\n",
        "\n",
        "\n",
        "1.   CBPA\n",
        "2.   GRE\n",
        "3.   TOEFL Score\n",
        "\n",
        "And we can see that Researching is the least effect of Chance of admit\n"
      ],
      "metadata": {
        "id": "EMxq3a9nnLpI"
      }
    },
    {
      "cell_type": "code",
      "source": [
        "# feature selection\n",
        "# mearge columns to vector\n",
        "from pyspark.ml.feature import VectorAssembler\n",
        "assembler = VectorAssembler(inputCols=['GRE Score', 'TOEFL Score', 'CGPA'], outputCol='features')\n",
        "print(assembler)"
      ],
      "metadata": {
        "colab": {
          "base_uri": "https://localhost:8080/"
        },
        "id": "re6re-manZae",
        "outputId": "746d5d98-cd3f-4303-cb68-a8ef0cefeef2"
      },
      "execution_count": 27,
      "outputs": [
        {
          "output_type": "stream",
          "name": "stdout",
          "text": [
            "VectorAssembler_6f180a74cdbe\n"
          ]
        }
      ]
    },
    {
      "cell_type": "code",
      "source": [
        "#display dataframe\n",
        "output_data = assembler.transform(df)\n",
        "output_data.show()"
      ],
      "metadata": {
        "colab": {
          "base_uri": "https://localhost:8080/"
        },
        "id": "qH9GA-9Mmzmq",
        "outputId": "561d5085-0de7-45a5-c754-73af0f5bdde4"
      },
      "execution_count": 29,
      "outputs": [
        {
          "output_type": "stream",
          "name": "stdout",
          "text": [
            "+---------+-----------+-----------------+---+---+----+--------+---------------+------------------+\n",
            "|GRE Score|TOEFL Score|University Rating|SOP|LOR|CGPA|Research|Chance of Admit|          features|\n",
            "+---------+-----------+-----------------+---+---+----+--------+---------------+------------------+\n",
            "|      337|        118|                4|4.5|4.5|9.65|       1|           0.92|[337.0,118.0,9.65]|\n",
            "|      324|        107|                4|4.0|4.5|8.87|       1|           0.76|[324.0,107.0,8.87]|\n",
            "|      316|        104|                3|3.0|3.5| 8.0|       1|           0.72| [316.0,104.0,8.0]|\n",
            "|      322|        110|                3|3.5|2.5|8.67|       1|            0.8|[322.0,110.0,8.67]|\n",
            "|      314|        103|                2|2.0|3.0|8.21|       0|           0.65|[314.0,103.0,8.21]|\n",
            "|      330|        115|                5|4.5|3.0|9.34|       1|            0.9|[330.0,115.0,9.34]|\n",
            "|      321|        109|                3|3.0|4.0| 8.2|       1|           0.75| [321.0,109.0,8.2]|\n",
            "|      308|        101|                2|3.0|4.0| 7.9|       0|           0.68| [308.0,101.0,7.9]|\n",
            "|      302|        102|                1|2.0|1.5| 8.0|       0|            0.5| [302.0,102.0,8.0]|\n",
            "|      323|        108|                3|3.5|3.0| 8.6|       0|           0.45| [323.0,108.0,8.6]|\n",
            "|      325|        106|                3|3.5|4.0| 8.4|       1|           0.52| [325.0,106.0,8.4]|\n",
            "|      327|        111|                4|4.0|4.5| 9.0|       1|           0.84| [327.0,111.0,9.0]|\n",
            "|      328|        112|                4|4.0|4.5| 9.1|       1|           0.78| [328.0,112.0,9.1]|\n",
            "|      307|        109|                3|4.0|3.0| 8.0|       1|           0.62| [307.0,109.0,8.0]|\n",
            "|      311|        104|                3|3.5|2.0| 8.2|       1|           0.61| [311.0,104.0,8.2]|\n",
            "|      314|        105|                3|3.5|2.5| 8.3|       0|           0.54| [314.0,105.0,8.3]|\n",
            "|      317|        107|                3|4.0|3.0| 8.7|       0|           0.66| [317.0,107.0,8.7]|\n",
            "|      319|        106|                3|4.0|3.0| 8.0|       1|           0.65| [319.0,106.0,8.0]|\n",
            "|      318|        110|                3|4.0|3.0| 8.8|       0|           0.63| [318.0,110.0,8.8]|\n",
            "|      303|        102|                3|3.5|3.0| 8.5|       0|           0.62| [303.0,102.0,8.5]|\n",
            "+---------+-----------+-----------------+---+---+----+--------+---------------+------------------+\n",
            "only showing top 20 rows\n",
            "\n"
          ]
        }
      ]
    },
    {
      "cell_type": "markdown",
      "source": [
        "#5- Build the Linear Regression Model"
      ],
      "metadata": {
        "id": "qhI9AY9kou2w"
      }
    },
    {
      "cell_type": "code",
      "source": [
        "# import LR and create final data\n",
        "from pyspark.ml.regression import LinearRegression\n",
        "final_data = output_data.select('features', 'Chance of Admit')"
      ],
      "metadata": {
        "id": "ok4rOeCkoIXw"
      },
      "execution_count": 30,
      "outputs": []
    },
    {
      "cell_type": "code",
      "source": [
        "# print the scema of final data\n",
        "final_data.printSchema()"
      ],
      "metadata": {
        "colab": {
          "base_uri": "https://localhost:8080/"
        },
        "id": "srTMsFYgo-Lx",
        "outputId": "0ab4632d-f6a7-4ce0-eeca-1eeec51cb01a"
      },
      "execution_count": 31,
      "outputs": [
        {
          "output_type": "stream",
          "name": "stdout",
          "text": [
            "root\n",
            " |-- features: vector (nullable = true)\n",
            " |-- Chance of Admit: double (nullable = true)\n",
            "\n"
          ]
        }
      ]
    },
    {
      "cell_type": "code",
      "source": [
        "# split the data into training and testing set\n",
        "\n",
        "train, test = final_data.randomSplit([0.7, 0.3])"
      ],
      "metadata": {
        "id": "bb1kHWdBpFSg"
      },
      "execution_count": 32,
      "outputs": []
    },
    {
      "cell_type": "code",
      "source": [
        "#build & train the model\n",
        "models = LinearRegression(featuresCol='features', labelCol='Chance of Admit')\n",
        "model = models.fit(train)"
      ],
      "metadata": {
        "id": "dsEF5A1fphTp"
      },
      "execution_count": 33,
      "outputs": []
    },
    {
      "cell_type": "code",
      "source": [
        "# get coefficients & intercept\n",
        "print(f\"coefficients: {model.coefficients}\")\n",
        "print(f\"intercept: {model.intercept}\")"
      ],
      "metadata": {
        "colab": {
          "base_uri": "https://localhost:8080/"
        },
        "id": "9E72WH1WptCt",
        "outputId": "3eebf66d-acec-48e4-bb09-55ea3476070b"
      },
      "execution_count": 35,
      "outputs": [
        {
          "output_type": "stream",
          "name": "stdout",
          "text": [
            "coefficients: [0.0022615727113056987,0.0036704569704190705,0.13896874037397614]\n",
            "intercept: -1.5791628235113881\n"
          ]
        }
      ]
    },
    {
      "cell_type": "code",
      "source": [
        "# get summary of the model\n",
        "summary = model.summary\n"
      ],
      "metadata": {
        "id": "vPceOMAoqauV"
      },
      "execution_count": 37,
      "outputs": []
    },
    {
      "cell_type": "code",
      "source": [
        "print(f\"RMSE: {summary.rootMeanSquaredError}\") # smaller is better\n",
        "print(f\"r2: {summary.r2}\")# hiegher is better"
      ],
      "metadata": {
        "colab": {
          "base_uri": "https://localhost:8080/"
        },
        "id": "Ex4SRS_Fqe_9",
        "outputId": "2f800d90-2837-4c15-9b90-41c56dfc5dfa"
      },
      "execution_count": 38,
      "outputs": [
        {
          "output_type": "stream",
          "name": "stdout",
          "text": [
            "RMSE: 0.06072414719789489\n",
            "r2: 0.813148337929058\n"
          ]
        }
      ]
    },
    {
      "cell_type": "markdown",
      "source": [
        "#6- Evaluate & Save the model"
      ],
      "metadata": {
        "id": "_wODnmGTrdNV"
      }
    },
    {
      "cell_type": "code",
      "source": [
        "# transform on the test data\n",
        "predictions = model.transform(test)"
      ],
      "metadata": {
        "id": "M_wm5BUOrg90"
      },
      "execution_count": 39,
      "outputs": []
    },
    {
      "cell_type": "code",
      "source": [
        "# display the predictions\n",
        "predictions.show()"
      ],
      "metadata": {
        "colab": {
          "base_uri": "https://localhost:8080/"
        },
        "id": "_PcMkSiQrsdo",
        "outputId": "9443fef2-c6f6-4e7e-f413-88f67fecd311"
      },
      "execution_count": 40,
      "outputs": [
        {
          "output_type": "stream",
          "name": "stdout",
          "text": [
            "+------------------+---------------+-------------------+\n",
            "|          features|Chance of Admit|         prediction|\n",
            "+------------------+---------------+-------------------+\n",
            "|  [293.0,97.0,7.8]|           0.64| 0.5234684819488451|\n",
            "| [294.0,93.0,7.36]|           0.46| 0.4499019810139253|\n",
            "| [295.0,99.0,7.65]|           0.57| 0.5144872302561985|\n",
            "| [296.0,95.0,7.54]|           0.44| 0.4867804136446905|\n",
            "|[296.0,101.0,7.68]|            0.6| 0.5282587791195614|\n",
            "| [297.0,96.0,7.43]|           0.34|0.47742588188527746|\n",
            "| [297.0,96.0,7.89]|           0.43| 0.5413515024573066|\n",
            "| [297.0,98.0,7.67]|           0.59| 0.5181192935158703|\n",
            "|[297.0,101.0,7.67]|           0.57| 0.5291306644271274|\n",
            "| [298.0,97.0,7.21]|           0.45| 0.4527847886847276|\n",
            "|  [298.0,98.0,7.5]|           0.44|0.49675618036360003|\n",
            "| [298.0,98.0,8.03]|           0.34| 0.5704096127618072|\n",
            "| [298.0,99.0,7.46]|           0.53| 0.4948678877190602|\n",
            "| [299.0,96.0,7.86]|           0.54| 0.5417055856686992|\n",
            "| [299.0,97.0,7.66]|           0.38| 0.5175822945643227|\n",
            "|[299.0,100.0,7.88]|           0.68| 0.5591667883578548|\n",
            "| [300.0,95.0,8.22]|           0.62| 0.5903254479442173|\n",
            "| [300.0,98.0,8.02]|           0.61|  0.573543070780679|\n",
            "|[300.0,102.0,7.87]|           0.56| 0.5673795876062586|\n",
            "|[300.0,102.0,8.17]|           0.63| 0.6090702097184515|\n",
            "+------------------+---------------+-------------------+\n",
            "only showing top 20 rows\n",
            "\n"
          ]
        }
      ]
    },
    {
      "cell_type": "code",
      "source": [
        "# evaluate the model\n",
        "from pyspark.ml.evaluation import RegressionEvaluator\n",
        "evaluator = RegressionEvaluator(predictionCol='prediction', labelCol='Chance of Admit', metricName='r2')\n",
        "evaluator.evaluate(predictions)"
      ],
      "metadata": {
        "colab": {
          "base_uri": "https://localhost:8080/"
        },
        "id": "U9DpB3ROrww-",
        "outputId": "1f820535-ca4b-4677-9981-b69f8de4fc09"
      },
      "execution_count": 41,
      "outputs": [
        {
          "output_type": "execute_result",
          "data": {
            "text/plain": [
              "0.7864499772914"
            ]
          },
          "metadata": {},
          "execution_count": 41
        }
      ]
    },
    {
      "cell_type": "code",
      "source": [
        "# save the model\n",
        "model.save('Admission Prediction model')"
      ],
      "metadata": {
        "id": "YzDqGn_DsIJn"
      },
      "execution_count": 42,
      "outputs": []
    },
    {
      "cell_type": "code",
      "source": [
        "# loade the modle\n",
        "from pyspark.ml.regression import LinearRegressionModel\n",
        "model = LinearRegressionModel.load('Admission Prediction model')\n"
      ],
      "metadata": {
        "id": "HIYGfEqUsyHN"
      },
      "execution_count": 43,
      "outputs": []
    },
    {
      "cell_type": "code",
      "source": [
        "# use the model\n",
        "model.transform(test).show()\n"
      ],
      "metadata": {
        "colab": {
          "base_uri": "https://localhost:8080/"
        },
        "id": "mEr9U6Cfs-iF",
        "outputId": "b3591089-b64e-4bd3-ae37-9abb9e33cf5e"
      },
      "execution_count": 46,
      "outputs": [
        {
          "output_type": "stream",
          "name": "stdout",
          "text": [
            "+------------------+---------------+-------------------+\n",
            "|          features|Chance of Admit|         prediction|\n",
            "+------------------+---------------+-------------------+\n",
            "|  [293.0,97.0,7.8]|           0.64| 0.5234684819488451|\n",
            "| [294.0,93.0,7.36]|           0.46| 0.4499019810139253|\n",
            "| [295.0,99.0,7.65]|           0.57| 0.5144872302561985|\n",
            "| [296.0,95.0,7.54]|           0.44| 0.4867804136446905|\n",
            "|[296.0,101.0,7.68]|            0.6| 0.5282587791195614|\n",
            "| [297.0,96.0,7.43]|           0.34|0.47742588188527746|\n",
            "| [297.0,96.0,7.89]|           0.43| 0.5413515024573066|\n",
            "| [297.0,98.0,7.67]|           0.59| 0.5181192935158703|\n",
            "|[297.0,101.0,7.67]|           0.57| 0.5291306644271274|\n",
            "| [298.0,97.0,7.21]|           0.45| 0.4527847886847276|\n",
            "|  [298.0,98.0,7.5]|           0.44|0.49675618036360003|\n",
            "| [298.0,98.0,8.03]|           0.34| 0.5704096127618072|\n",
            "| [298.0,99.0,7.46]|           0.53| 0.4948678877190602|\n",
            "| [299.0,96.0,7.86]|           0.54| 0.5417055856686992|\n",
            "| [299.0,97.0,7.66]|           0.38| 0.5175822945643227|\n",
            "|[299.0,100.0,7.88]|           0.68| 0.5591667883578548|\n",
            "| [300.0,95.0,8.22]|           0.62| 0.5903254479442173|\n",
            "| [300.0,98.0,8.02]|           0.61|  0.573543070780679|\n",
            "|[300.0,102.0,7.87]|           0.56| 0.5673795876062586|\n",
            "|[300.0,102.0,8.17]|           0.63| 0.6090702097184515|\n",
            "+------------------+---------------+-------------------+\n",
            "only showing top 20 rows\n",
            "\n"
          ]
        }
      ]
    },
    {
      "cell_type": "code",
      "source": [],
      "metadata": {
        "id": "Ogp5JAJhtDN2"
      },
      "execution_count": null,
      "outputs": []
    }
  ]
}